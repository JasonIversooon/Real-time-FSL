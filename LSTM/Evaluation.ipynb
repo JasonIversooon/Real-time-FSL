{
 "cells": [
  {
   "cell_type": "code",
   "execution_count": 4,
   "id": "f7a4f8bf",
   "metadata": {},
   "outputs": [
    {
     "ename": "NameError",
     "evalue": "name 'X_val_combined' is not defined",
     "output_type": "error",
     "traceback": [
      "\u001b[1;31m---------------------------------------------------------------------------\u001b[0m",
      "\u001b[1;31mNameError\u001b[0m                                 Traceback (most recent call last)",
      "\u001b[1;32m~\\AppData\\Local\\Temp\\ipykernel_11048\\1200661517.py\u001b[0m in \u001b[0;36m<module>\u001b[1;34m\u001b[0m\n\u001b[0;32m     15\u001b[0m \u001b[1;32mfor\u001b[0m \u001b[0miteration\u001b[0m \u001b[1;32min\u001b[0m \u001b[0mrange\u001b[0m\u001b[1;33m(\u001b[0m\u001b[1;36m5\u001b[0m\u001b[1;33m)\u001b[0m\u001b[1;33m:\u001b[0m\u001b[1;33m\u001b[0m\u001b[1;33m\u001b[0m\u001b[0m\n\u001b[0;32m     16\u001b[0m     \u001b[1;31m# Generate predictions\u001b[0m\u001b[1;33m\u001b[0m\u001b[1;33m\u001b[0m\u001b[1;33m\u001b[0m\u001b[0m\n\u001b[1;32m---> 17\u001b[1;33m     \u001b[0my_pred\u001b[0m \u001b[1;33m=\u001b[0m \u001b[0mmodel\u001b[0m\u001b[1;33m.\u001b[0m\u001b[0mpredict\u001b[0m\u001b[1;33m(\u001b[0m\u001b[0mX_val_combined\u001b[0m\u001b[1;33m)\u001b[0m\u001b[1;33m\u001b[0m\u001b[1;33m\u001b[0m\u001b[0m\n\u001b[0m\u001b[0;32m     18\u001b[0m \u001b[1;33m\u001b[0m\u001b[0m\n\u001b[0;32m     19\u001b[0m     \u001b[1;31m# Convert one-hot encoded labels back to categorical labels\u001b[0m\u001b[1;33m\u001b[0m\u001b[1;33m\u001b[0m\u001b[1;33m\u001b[0m\u001b[0m\n",
      "\u001b[1;31mNameError\u001b[0m: name 'X_val_combined' is not defined"
     ]
    }
   ],
   "source": [
    "import numpy as np\n",
    "import matplotlib.pyplot as plt\n",
    "from sklearn.metrics import classification_report\n",
    "from tensorflow.keras.models import load_model\n",
    "\n",
    "\n",
    "# Load the model and weights\n",
    "model = load_model('mrcnn_lstm_model_10C.h5')\n",
    "model.load_weights('./mrcnn_lstm_weights_10C.h5')\n",
    "\n",
    "# Initialize lists to store accuracy per iteration\n",
    "accuracies = []\n",
    "\n",
    "# Iterate five times\n",
    "for iteration in range(5):\n",
    "    # Generate predictions\n",
    "    y_pred = model.predict(X_val_combined)\n",
    "    \n",
    "    # Convert one-hot encoded labels back to categorical labels\n",
    "    y_true = np.argmax(y_val_combined, axis=1)\n",
    "    y_pred = np.argmax(y_pred, axis=1)\n",
    "    \n",
    "    # Generate classification report\n",
    "    report = classification_report(y_true, y_pred, target_names=class_names, output_dict=True)\n",
    "    accuracy = report['accuracy']\n",
    "    accuracies.append(accuracy)\n",
    "    \n",
    "    # Plot the classification report\n",
    "    precision = [report[label]['precision'] for label in class_names]\n",
    "    recall = [report[label]['recall'] for label in class_names]\n",
    "    f1_score = [report[label]['f1-score'] for label in class_names]\n",
    "\n",
    "    x = range(len(class_names))\n",
    "\n",
    "    plt.figure(figsize=(10, 6))\n",
    "    plt.bar(x, precision, width=0.2, label='Precision')\n",
    "    plt.bar([i + 0.2 for i in x], recall, width=0.2, label='Recall')\n",
    "    plt.bar([i + 0.4 for i in x], f1_score, width=0.2, label='F1-score')\n",
    "\n",
    "    plt.xlabel('Class')\n",
    "    plt.ylabel('Score')\n",
    "    plt.title(f'Classification Report Metrics - Iteration {iteration+1}')\n",
    "    plt.xticks([i + 0.2 for i in x], class_names)\n",
    "    plt.legend()\n",
    "    plt.show()\n",
    "\n",
    "# Calculate mean accuracy\n",
    "mean_accuracy = np.mean(accuracies)\n",
    "print(\"Mean Accuracy:\", mean_accuracy)\n"
   ]
  },
  {
   "cell_type": "code",
   "execution_count": null,
   "id": "d4e737f0",
   "metadata": {},
   "outputs": [],
   "source": []
  }
 ],
 "metadata": {
  "kernelspec": {
   "display_name": "Python 3 (ipykernel)",
   "language": "python",
   "name": "python3"
  },
  "language_info": {
   "codemirror_mode": {
    "name": "ipython",
    "version": 3
   },
   "file_extension": ".py",
   "mimetype": "text/x-python",
   "name": "python",
   "nbconvert_exporter": "python",
   "pygments_lexer": "ipython3",
   "version": "3.7.7"
  }
 },
 "nbformat": 4,
 "nbformat_minor": 5
}
